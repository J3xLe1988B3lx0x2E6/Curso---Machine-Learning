{
 "cells": [
  {
   "cell_type": "markdown",
   "id": "85235d58",
   "metadata": {},
   "source": [
    "# Proyecto Machine Learning II. ⌛✒️💻🤖\n",
    "## Aprendizaje supervisado. ✍🏻\n",
    "\n",
    "\n",
    "Para este proyecto final se necesitará que en una libreta de **Jupyter Notebook** o **Google Colab** analicen un problema inventado por usted tal que puedan resolverlo por **aprendizaje supervisado** (Recuerden los pasos a seguir para el análisis de datos).\n",
    "\n",
    "### ¿Qué tiene que contener su libreta? 📕\n",
    "* Una portada (En una sola celda debe contener titulo, fecha, autor (nombre y correo) y como opcional logos e imágenes).\n",
    "* Planteamiento del problema (Esta es la parte más esencial de su investigación). No más de 10 líneas  y tiene que contener su pregunta a analizar. \n",
    "* Tiene que tener en los 4 pasos esenciales (Selección de datos, Limpieza, Test del modelo (escoger bien sus variables), también normalización de datos. \n",
    "* Dependiendo de si es una regresión o clasificación:\n",
    "    - RLMúltiple, Árbol de Regresión y Bosque Aleatorio de Regresión.\n",
    "    - RLogística, Árbol de Clasificación y Bosque Aleatorio de Clasificación.\n",
    "* Resultados.\n",
    "* Conclusiones.\n",
    "* Referencias.\n",
    "\n",
    "**Si hacen sus ecuaciones en Latex en la libreta tienen un (+1) punto extra sobre el proyecto.** Suerte y mucho éxito.\n",
    "\n",
    "![](img/ganbattekudasai.jpeg)\n",
    "**Nota:** Lo que signfica esto 頑張って「がんばって」*ganbatte* es **esfuérzate** o **ánimo**."
   ]
  },
  {
   "cell_type": "code",
   "execution_count": null,
   "id": "2f107941",
   "metadata": {},
   "outputs": [],
   "source": []
  },
  {
   "cell_type": "markdown",
   "id": "6b466106",
   "metadata": {},
   "source": [
    "## Datasets para utilizar. 📉⌛📚\n",
    "* [GitHub Akmand datasets](https://github.com/akmand/datasets)\n",
    "* [Datos Abiertos de México](https://datos.gob.mx/)\n",
    "* [Google Public Data Explorer](https://www.google.com/publicdata/directory)\n",
    "* [World Bank Open Data](https://data.worldbank.org/)\n",
    "* [UCI Machine Learning Repository](https://archive.ics.uci.edu/ml/index.php)\n",
    "* [Find Open Datasets and Machine Learning Projects](https://www.kaggle.com/datasets)"
   ]
  }
 ],
 "metadata": {
  "kernelspec": {
   "display_name": "Python 3 (ipykernel)",
   "language": "python",
   "name": "python3"
  },
  "language_info": {
   "codemirror_mode": {
    "name": "ipython",
    "version": 3
   },
   "file_extension": ".py",
   "mimetype": "text/x-python",
   "name": "python",
   "nbconvert_exporter": "python",
   "pygments_lexer": "ipython3",
   "version": "3.10.5"
  }
 },
 "nbformat": 4,
 "nbformat_minor": 5
}
